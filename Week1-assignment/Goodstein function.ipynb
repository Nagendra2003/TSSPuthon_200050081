{
 "cells": [
  {
   "cell_type": "code",
   "execution_count": 17,
   "metadata": {
    "scrolled": true
   },
   "outputs": [
    {
     "name": "stdout",
     "output_type": "stream",
     "text": [
      "in the notation G(m)(k),Type your:\n",
      "m= 4\n",
      "k= 23\n",
      "1151\n"
     ]
    }
   ],
   "source": [
    "def change_base(initial,n): \n",
    "    pow =0\n",
    "    final=0 \n",
    "    while(initial!=0): \n",
    "        if(pow<n): \n",
    "            final+=(initial%n)*((n+1)**pow) \n",
    "        else: \n",
    "            pow_final=change_base(pow,n)\n",
    "            final+=(initial%n)*((n+1)**pow_final) \n",
    "        initial//=n \n",
    "        pow+=1\n",
    "    return final\n",
    "\n",
    "\n",
    "def f(n,m): \n",
    "    if(n==1): \n",
    "        return m \n",
    "    else: \n",
    "        if(f(n-1,m)==0): \n",
    "            return 0 \n",
    "        else: \n",
    "            return change_base(f(n-1,m),n) -1 \n",
    "        \n",
    "        \n",
    "def G(m): \n",
    "    return lambda n:f(n,m) \n",
    "print(\"in the notation G(m)(k),Type your:\")\n",
    "m=int(input('m= '))\n",
    "k=int(input('k= '))\n",
    "print(G(m)(k))"
   ]
  },
  {
   "cell_type": "code",
   "execution_count": null,
   "metadata": {},
   "outputs": [],
   "source": []
  },
  {
   "cell_type": "code",
   "execution_count": null,
   "metadata": {},
   "outputs": [],
   "source": []
  }
 ],
 "metadata": {
  "kernelspec": {
   "display_name": "Python 3.8.5 64-bit ('anaconda3': virtualenv)",
   "language": "python",
   "name": "python385jvsc74a57bd0ead85409a3df2736fa4852a03cf3afe7e5b1dbdc0e40d7d22bbcbf8cf1adf5fa"
  },
  "language_info": {
   "codemirror_mode": {
    "name": "ipython",
    "version": 3
   },
   "file_extension": ".py",
   "mimetype": "text/x-python",
   "name": "python",
   "nbconvert_exporter": "python",
   "pygments_lexer": "ipython3",
   "version": "3.8.5"
  }
 },
 "nbformat": 4,
 "nbformat_minor": 4
}

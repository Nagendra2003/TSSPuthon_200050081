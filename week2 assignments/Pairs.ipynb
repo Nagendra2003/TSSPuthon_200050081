{
 "cells": [
  {
   "cell_type": "markdown",
   "metadata": {
    "id": "dBmd8kyLfMIg"
   },
   "source": [
    "## Paired Switching\n",
    "\n",
    "The idea behind this strategy is that if the assets are negatively correlated, then a traditional mixed portfolio might lead to a lower return than the return for the individual assets.\n",
    "\n",
    "We periodically compute the Co-relation Coefficients' Matrix and choose pair of stocks which have the most negative co-relations and trade in them. The basic idea being that if one of them would fall, then the other would rise and hence, we must switch between them!\n",
    "\n",
    "We need a re-balancing period ,i.e. The time after which we would be again calculating the co-relations and taking a different pair of stocks : **T**\n",
    "\n",
    "We would also need to keep switching between these selected stocks in a pair at a certain interval of time : **P**\n",
    "\n",
    "Next, We need to specify how many such pairs would we be trading in : **M**\n",
    "\n",
    "The Fraction of the total balance we would be investing on every turn : **R**\n",
    "\n",
    "The Brokerage Fee as a fraction of the total transaction amount : **F**\n",
    "\n"
   ]
  },
  {
   "cell_type": "code",
   "execution_count": 57,
   "metadata": {
    "id": "KhmpNcaUextd"
   },
   "outputs": [],
   "source": [
    "import numpy as np\n",
    "import pandas as pd\n",
    "import datetime\n",
    "import matplotlib.pyplot as plt\n",
    "import seaborn as sns\n",
    "\n",
    "T = 60\n",
    "P = 7\n",
    "M = 4\n",
    "R = 0.8\n",
    "F = 0.0005"
   ]
  },
  {
   "cell_type": "markdown",
   "metadata": {
    "id": "6zepnFA0xjvI"
   },
   "source": [
    "### Few Upcoming Functions(GetData and PartitionData) would be similar to the ones you encountered in the Momentum Assignment (Feel free to Copy-Paste your code from there!)"
   ]
  },
  {
   "cell_type": "markdown",
   "metadata": {
    "id": "YZQH1NuRyGLy"
   },
   "source": [
    "In the file DATA.csv , which we had uploaded in our repository, we have prices of 30 firms enlisted in S & P 500 Index (Apple, IBM, Cisco, Walmart and the like!) from 2nd January 2009 to 17th August 2020.\n",
    "\n",
    "For our purposes, We'll only be requiring certain columns. On an honest note, Just getting the Columns on Ticker, Date and Adjusted Closing Price would do the job, but if you want, you may take Opening Price as well.\n",
    "\n",
    "Read up about the [pandas.read_csv](https://pandas.pydata.org/docs/reference/api/pandas.read_csv.html) function from here, and figure out how you'll use it to do the job (You don't need all the columns!) "
   ]
  },
  {
   "cell_type": "code",
   "execution_count": 58,
   "metadata": {
    "id": "Ka_L9Ne6yOGY"
   },
   "outputs": [],
   "source": [
    "def GetData(NameOfFile):\n",
    "  #START CODE HERE\n",
    "    df=pd.read_csv(NameOfFile,usecols=[\"tic\",\"datadate\",\"adjcp\",\"open\",\"rsi\"])\n",
    "    df.dropna(how='any')\n",
    "    return df  # pd.DataFrame Object"
   ]
  },
  {
   "cell_type": "markdown",
   "metadata": {
    "id": "xJILaZUYySQW"
   },
   "source": [
    "To aid Data-Manipulation, it would be beneficial, if we split the DataFrame into many small parts each corresponding to the data corresponding to the 30 Tickers on a particular date. These small parts could then be stored in a list.\n",
    "\n",
    "We would also be needing to remember which date is at what index, so that we can use that later. "
   ]
  },
  {
   "cell_type": "code",
   "execution_count": 59,
   "metadata": {
    "id": "I0jUbPe_yiGU"
   },
   "outputs": [],
   "source": [
    "def PartitionData(Data):\n",
    "  \n",
    "    DateToIndex = {}\n",
    "    for index in Data.index:\n",
    "        if Data.loc[index][\"datadate\"] in DateToIndex.keys():        #note:keys are int in YYYYMMDD format\n",
    "            DateToIndex[Data.loc[index][\"datadate\"]].append(index)\n",
    "        else:\n",
    "            DateToIndex[Data.loc[index][\"datadate\"]]=[index]\n",
    "    datalist=[]\n",
    "    for index in Data.index:\n",
    "        datalist.append([Data.loc[index][\"datadate\"],Data.loc[index][\"tic\"],Data.loc[index][\"adjcp\"],Data.loc[index][\"rsi\"]])\n",
    "    \n",
    "    return datalist,DateToIndex    # List containing of the Data Partitioned according to Date, and the Dictionary mapping Dates to their index in the list "
   ]
  },
  {
   "cell_type": "markdown",
   "metadata": {
    "id": "abBu6bdrqpcD"
   },
   "source": [
    "Now, We need a function which takes as input a pair of stocks (as indices in range 0-29), Today's date,  alongwith the Partitioned DataFrames which will tell us which of the two stocks has a better outlook for the future, and we'll simply move all our Money from one of them to the other. \n",
    "\n",
    "This will be done once in every **P** trading sessions.\n",
    "\n",
    "You could choose between the two stocks in a number of ways, the simplest of which can be what you did in the last assignment, the Momentum Indicator (i.e. Take the difference between the prices of the stocks in a certain number of days and do your deed! Remember this number of days **N** must be <= **T**)\n",
    "\n",
    "You may also use other indicators like [RSI](https://www.investopedia.com/terms/r/rsi.asp), [Stochs](https://www.investopedia.com/terms/s/stochasticoscillator.asp), [MACD](https://www.investopedia.com/terms/m/macd.asp) or anything else! (If you decide to use MACD or RSI, you could either implement other functions to calculate them or simply change your ParitionData() function to get the MACD and RSI values as they are already stored there for you!)\n",
    "\n",
    "You need not worry about getting the nearest dates (or dates at all) in this case, because all you care about is co-relations in long term and growth in short-term so it doesn't matter if you're ahead or behind a few days!\n",
    "\n",
    "'today' would be an index(integer), i.e. an index on the PartitionedDataFrames list denoting where we are at currently!\n",
    "\n",
    "Also, as you may have figured it out yourself, while DataFrames are great for Data Handling and small statistical calculations, They aren't so for big calculations as the Numpy Library has both a richer variety of functions for such manipulations and is also more efficient!\n"
   ]
  },
  {
   "cell_type": "code",
   "execution_count": 60,
   "metadata": {
    "id": "hUViRxVXwrB5"
   },
   "outputs": [],
   "source": [
    "def Switch(firstStock, SecondStock, today ,PartitionedDataFrames):  #PartitionedDataFrames is output of last function(a tuple)\n",
    "    datalist=PartitionedDataFrames[0]\n",
    "    DateToIndex=PartitionedDataFrames[1]\n",
    "    \n",
    "    indlist=DateToIndex[today]\n",
    "    rsi1=datalist[indlist[firstStock]][3]    #4th column contain rsi values\n",
    "    rsi2=datalist[indlist[SecondStock]][3]\n",
    "\n",
    "    if(rsi1>rsi2):\n",
    "        return firstStock\n",
    "    else:\n",
    "        return SecondStock        #One of two(firstStock/SecondStock) depending on which should grow more in the future.\n"
   ]
  },
  {
   "cell_type": "markdown",
   "metadata": {
    "id": "CBZqJ_CszZbL"
   },
   "source": [
    "Now, We need something to simulate our [Portfolio](https://www.investopedia.com/terms/p/portfolio.asp). In order to do that we need a class, which has certain  basic features and functionalities.\n",
    "\n",
    "(Again some of the functions here, would be same as the previous assignment, so feel free to Copy-Paste)\n",
    "\n",
    "Features : \n",
    "\n",
    "\n",
    "1.   Your Initial Balance\n",
    "2.   Your Current Balance (Money which isn't invested!)\n",
    "3.   A list(/any other container) storing the number of stocks of each ticker currently in possession. (Numpy Array prefered)\n",
    "4.   Most recent prices of all the stocks (As a Numpy array)\n",
    "5.   A list of **M** or less(as it might be that less than **M** stocks are negatively co-related) Tuples of indices (i,j) where i and j are the indices (from 0-29) of stocks which are negatively co-related.\n",
    "\n",
    "Functionalities: \n",
    "\n",
    "\n",
    "\n",
    "1.   Calculating current Net Worth (Balance+Total Evaluation of all Stocks owned!) \n",
    "2.   Buying a Particular Stock (Keep the Transaction fee in mind!)\n",
    "3.   Selling a particular Stock whole (Keep the Transaction Fee in mind!)\n",
    "4.   Change Pairs (**T** period intervals) (Takes PartitionedDataFrame, DateT and today's date as input)\n",
    "5.   Rebalance Portfolio (**P** period intervals) (Takes O)\n",
    "6.   Function to change the value of most recent prices stored (Takes Numpy array as input)\n",
    "\n",
    "\n",
    "You may want to know about Numpy's Corrcoef ([np.corrcoef](https://numpy.org/doc/stable/reference/generated/numpy.corrcoef.html)) function!\n"
   ]
  },
  {
   "cell_type": "code",
   "execution_count": 61,
   "metadata": {
    "id": "SFJOHvgS1aq0"
   },
   "outputs": [],
   "source": [
    "class PortFolio:\n",
    "\n",
    "    def __init__(self,initbal,currbal,stockarr,pricearr,negcorrelationlist):\n",
    "        #Initialize all variables\n",
    "        self.initbal=initbal\n",
    "        self.currbal=currbal\n",
    "        self.stockarr=stockarr\n",
    "        self.pricearr=pricearr\n",
    "        self.negcorrelationlist=negcorrelationlist\n",
    "        \n",
    "    def SellStock(self, index):\n",
    "    #index : The index of the Stock to sell (0-29)\n",
    "        self.currbal+=self.stockarr[index]*self.pricearr[index]*(1-F)\n",
    "        self.stockarr[index]=0\n",
    "        \n",
    "        \n",
    "    def BuyStock(self,index, number):\n",
    "  #index : The index of the Stock to buy (0-29) \n",
    "  #number : Number of shares to buy (float)\n",
    "        self.currbal-=number*self.pricearr[index]*(1+F)\n",
    "        self.stockarr[index]+=number\n",
    "\n",
    "    def CalculateNetWorth(self):\n",
    "    #Return Net Worth (All Shares' costs+ Balance)\n",
    "        stocksum=0\n",
    "        for i in range(30):\n",
    "            stocksum+=self.stockarr[i]*self.pricearr[i]\n",
    "        return self.currbal+stocksum\n",
    "\n",
    "\n",
    "    def ChangePricesTo(self,newPriceVector):\n",
    "    # newPriceVector : Numpy array containing the prices of all the stocks for the current day\n",
    "        self.pricearr=newPriceVector\n",
    "\n",
    "    def ChangePairs(self,today,PartitionedDataFrame):  \n",
    "    # Calls the Switch function for all the pairs of stocks owned\n",
    "        for cortuple in self.negcorrelationlist:\n",
    "            i=Switch(cortuple[0],cortuple[1],today,PartitionedDataFrame)\n",
    "            if(i==cortuple[0]):\n",
    "                tempbaladded=self.stockarr[cortuple[1]]*self.pricearr[cortuple[1]]*(1-F)\n",
    "                self.SellStock(cortuple[1])\n",
    "                self.BuyStock(cortuple[0],tempbaladded/(self.pricearr[cortuple[0]]*(1+F)))\n",
    "            else:\n",
    "                tempbaladded=self.stockarr[cortuple[0]]*self.pricearr[cortuple[0]]*(1-F)\n",
    "                self.SellStock(cortuple[0])\n",
    "                self.BuyStock(cortuple[1],tempbaladded/(self.pricearr[cortuple[1]]*(1+F)))\n",
    "                \n",
    "\n",
    "  \n",
    "    def RebalancePortfolio(self,today,allstockprice,PartitionedDataFrame):     #allstockprice=array with lists of prices for last t days for all stocks\n",
    "    # Calculates the Co-relation Matrix and changes the list of pairs, which you'll be using to trade\n",
    "    # You'll have to take care of cases, where a single stock would be involved in two or more of the most negatively co-related Stocks\n",
    "    # It would be a good idea, to call BuyStock and SellStock from here itself, instead of calling ChangePairs later as it will cause havoc that way\n",
    "        correlmatrix=np.corrcoef(allstockprice)   #matrix 30,30\n",
    "        pairlist=[]\n",
    "        for i in range(M):\n",
    "            if(np.amin(correlmatrix)<0):\n",
    "                result=np.where(correlmatrix==np.amin(correlmatrix))\n",
    "                listOfCordinates = list(zip(result[0], result[1]))\n",
    "                pairlist.append(listOfCordinates[0])  #only first coordinate selected other minimum may have same stock\n",
    "            \n",
    "                for i in range(3):   #set values with these two stocks =0\n",
    "                    correlmatrix[i,pairlist[-1][0]]=0\n",
    "                    correlmatrix[i,pairlist[-1][1]]=0\n",
    "                    correlmatrix[pairlist[-1][0],i]=0\n",
    "                    correlmatrix[pairlist[-1][0],i]=0\n",
    "        self.negcorrelationlist=pairlist  \n",
    "        self.ChangePairs(today,PartitionedDataFrame)\n"
   ]
  },
  {
   "cell_type": "markdown",
   "metadata": {
    "id": "S2Sv0OPB6QiL"
   },
   "source": [
    "With that the difficult part is over!\n",
    "\n",
    "Now, all you need to work on is a main loop, which calls all these functions"
   ]
  },
  {
   "cell_type": "code",
   "execution_count": 62,
   "metadata": {
    "id": "8qTWYyDn6mjt"
   },
   "outputs": [],
   "source": [
    "myPortfolio = PortFolio(10000,10000*(1-R),0,0,0)\n",
    "NetWorthAfterEachTrade=[]\n",
    "\n",
    "\n",
    "#First Get the Data\n",
    "Data = GetData(\"DATA.csv\")\n",
    "PartitionedDatalist, DateToIndex= PartitionData(Data)\n",
    "PartitionedDataFrame=(PartitionedDatalist, DateToIndex)\n",
    "\n",
    "keyslist=list(DateToIndex.keys())\n",
    "\n",
    "########################################################################################\n",
    "#set initial values for my portfolio\n",
    "pricearr=np.array([])                    #set myportfolio stock prices as that on Tth day\n",
    "for index in DateToIndex[keyslist[T]]:\n",
    "        pricearr=np.append(pricearr,PartitionedDatalist[index][2])\n",
    "myPortfolio.pricearr=pricearr     \n",
    "\n",
    "myPortfolio.negcorrelationlist=[]   #no info set on correlmatrix\n",
    "                         \n",
    "                         \n",
    "stockarr=np.array([])\n",
    "bal=R*myPortfolio.initbal/30      #equally invest bal on every stock\n",
    "for i in range(30):\n",
    "        stockarr=np.append(stockarr,bal/pricearr[i])\n",
    "myPortfolio.stockarr=stockarr\n",
    "                         \n",
    "###################################################################################################3                        \n",
    "\n",
    "#Start processing from the (T+1)th Day(among the ones recorded in the Data)\n",
    "rebalanceind=T+1\n",
    "for i in range(T+1,len(keyslist)):\n",
    "  # Change the Prices to the ith Term\n",
    "  # Get NetWorth and store in list\n",
    "  # Check if you need to rebalance Portfolio's Today\n",
    "  # Check if you need to switch stocks today\n",
    "    newpricearr=np.array([])\n",
    "    for index in DateToIndex[keyslist[i]]:\n",
    "        newpricearr=np.append(newpricearr,PartitionedDatalist[index][2])   #3 column has adjccp\n",
    "    \n",
    "    myPortfolio.ChangePricesTo(newpricearr)\n",
    "    \n",
    "    NetWorthAfterEachTrade.append(myPortfolio.CalculateNetWorth())\n",
    "    \n",
    "    if(i==rebalanceind):\n",
    "        allpricestock=[]\n",
    "        for numstock in range(30):\n",
    "            istockpricelist=[]       #prices of ith stock for i-T to i dates index\n",
    "            for j in range(i-T,i):\n",
    "                indlist=DateToIndex[keyslist[j]]\n",
    "                istockpricelist.append(PartitionedDatalist[indlist[numstock]][2])\n",
    "            allpricestock.append(istockpricelist)\n",
    "            \n",
    "            \n",
    "        myPortfolio.RebalancePortfolio(keyslist[i],allpricestock,PartitionedDataFrame)\n",
    "        rebalanceind+=T\n"
   ]
  },
  {
   "cell_type": "markdown",
   "metadata": {
    "id": "kwewPN3O6yIF"
   },
   "source": [
    "You may need to declare the PartitionedData list global, depending on your implementation of the Above snippet as well as the various functions in the Portfolio class."
   ]
  },
  {
   "cell_type": "markdown",
   "metadata": {
    "id": "7JBJY3YU7M2C"
   },
   "source": [
    "##Moment of Truth\n",
    "\n",
    "Time to check, if your Program actually works!\n",
    "\n",
    "Plot the data you collected in various ways (Profits, PercentageProfits etc.) and see if what you did worked!\n",
    "\n",
    "Feel free to use whichever one of Matplotlib or Seaborn you want to.\n",
    "\n",
    "Feel free to copy-paste your code from the previous assignment!"
   ]
  },
  {
   "cell_type": "code",
   "execution_count": 63,
   "metadata": {
    "id": "lPQny8RK7tmN"
   },
   "outputs": [
    {
     "data": {
      "image/png": "[encoded data removed]",
      "text/plain": [
       "<Figure size 1440x576 with 2 Axes>"
      ]
     },
     "metadata": {
      "needs_background": "light"
     },
     "output_type": "display_data"
    }
   ],
   "source": [
    "def VizualizeData(NetWorthAfterEachTrade,myportfolio):\n",
    "    \n",
    "    x=[]\n",
    "    first_day=str(keyslist[T+1])   #T+1 th day in dates(in data)\n",
    "    start_date=datetime.date(int(first_day[0:4]),int(first_day[4:6]),int(first_day[6:]))\n",
    "    \n",
    "    for i in range(T+1,len(keyslist)):\n",
    "        today=datetime.date(int(str(keyslist[i])[0:4]),int(str(keyslist[i])[4:6]),int(str(keyslist[i])[6:]))\n",
    "        day=(today-start_date).days\n",
    "        x.append(day)\n",
    "    \n",
    "\n",
    "    y=NetWorthAfterEachTrade\n",
    "    percentprofit=[]\n",
    "    ind=0\n",
    "    while ind<len(y):\n",
    "        percentprofit.append((y[ind]-myportfolio.initbal)*100/myportfolio.initbal)\n",
    "        ind+=1\n",
    "        \n",
    "    \n",
    "    plt.figure(figsize=(20,8))\n",
    "    \n",
    "    plt.subplot(2,1,1)\n",
    "    plt.plot(x,y)\n",
    "    plt.xlabel('days passed from T days ahead of 02-09-2009 ')\n",
    "    plt.ylabel('net worth')\n",
    "    \n",
    "    plt.subplot(2,1,2)\n",
    "    plt.plot(x,percentprofit)\n",
    "    plt.xlabel('days passed from T days ahead of 02-09-2009 ')\n",
    "    plt.ylabel('percent profit')\n",
    "    \n",
    "    \n",
    "    plt.show()\n",
    "\n",
    "\n",
    "VizualizeData(NetWorthAfterEachTrade,myPortfolio)  "
   ]
  },
  {
   "cell_type": "markdown",
   "metadata": {
    "id": "lsAUyiuk9r6v"
   },
   "source": [
    "More return than previous and generally uniform growth."
   ]
  }
 ],
 "metadata": {
  "colab": {
   "collapsed_sections": [],
   "name": "Pairs.ipynb",
   "provenance": []
  },
  "kernelspec": {
   "display_name": "Python 3",
   "language": "python",
   "name": "python3"
  },
  "language_info": {
   "codemirror_mode": {
    "name": "ipython",
    "version": 3
   },
   "file_extension": ".py",
   "mimetype": "text/x-python",
   "name": "python",
   "nbconvert_exporter": "python",
   "pygments_lexer": "ipython3",
   "version": "3.8.8"
  }
 },
 "nbformat": 4,
 "nbformat_minor": 1
}
